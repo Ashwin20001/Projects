{
 "cells": [
  {
   "cell_type": "code",
   "execution_count": 1,
   "metadata": {},
   "outputs": [],
   "source": [
    "import Code as c  #Importing code as c\n",
    "import json       #To convert values into json format"
   ]
  },
  {
   "cell_type": "code",
   "execution_count": 2,
   "metadata": {},
   "outputs": [
    {
     "name": "stdout",
     "output_type": "stream",
     "text": [
      "File NameStudent\n",
      "Loctaion of the file:  C:\\Users\\Ashwin\\Student\n"
     ]
    }
   ],
   "source": [
    "c.file()          #Creating and accessng file location"
   ]
  },
  {
   "cell_type": "code",
   "execution_count": 3,
   "metadata": {},
   "outputs": [],
   "source": [
    "a={\"age\":20,\"Height\":167,\"Education\":\"Mecahnical Engineering\"}\n",
    "b=json.dumps(a)      #Converting to json format\n",
    "c.create(\"Ashwin\",b) #Creating using key and value"
   ]
  },
  {
   "cell_type": "code",
   "execution_count": 4,
   "metadata": {},
   "outputs": [
    {
     "name": "stdout",
     "output_type": "stream",
     "text": [
      "Ashwin:{\"age\": 20, \"Height\": 167, \"Education\": \"Mecahnical Engineering\"}\n"
     ]
    }
   ],
   "source": [
    "c.read(\"Ashwin\")     #Reading the data"
   ]
  },
  {
   "cell_type": "code",
   "execution_count": 5,
   "metadata": {},
   "outputs": [
    {
     "name": "stdout",
     "output_type": "stream",
     "text": [
      "Error:String is already available in the Database, input another string\n"
     ]
    }
   ],
   "source": [
    "c.create(\"Ashwin\",b) #Re-creating an existing data"
   ]
  },
  {
   "cell_type": "code",
   "execution_count": 6,
   "metadata": {},
   "outputs": [
    {
     "name": "stdout",
     "output_type": "stream",
     "text": [
      "Data is successfully deleted\n"
     ]
    }
   ],
   "source": [
    "c.delete(\"Ashwin\")   #Deletion operation"
   ]
  },
  {
   "cell_type": "code",
   "execution_count": 7,
   "metadata": {},
   "outputs": [],
   "source": [
    "c.create(\"Ashwin\",b,10) #Creating using key,value and time limit"
   ]
  },
  {
   "cell_type": "raw",
   "metadata": {},
   "source": []
  },
  {
   "cell_type": "code",
   "execution_count": 8,
   "metadata": {},
   "outputs": [
    {
     "name": "stdout",
     "output_type": "stream",
     "text": [
      "Error:Time limit has been exceeded for Ashwin\n"
     ]
    }
   ],
   "source": [
    "c.read(\"Ashwin\")        #Reading data after time limit exceeded"
   ]
  },
  {
   "cell_type": "code",
   "execution_count": 9,
   "metadata": {},
   "outputs": [
    {
     "name": "stdout",
     "output_type": "stream",
     "text": [
      "Error:Time limit has been exceeded for Ashwin\n"
     ]
    }
   ],
   "source": [
    "c.delete(\"Ashwin\")      #Deleting data after time limit exceeded"
   ]
  },
  {
   "cell_type": "code",
   "execution_count": null,
   "metadata": {},
   "outputs": [],
   "source": [
    "#Accessing data using treading"
   ]
  },
  {
   "cell_type": "code",
   "execution_count": 10,
   "metadata": {},
   "outputs": [
    {
     "name": "stdout",
     "output_type": "stream",
     "text": [
      "Aditiya:{\"age\": 20, \"Height\": 167, \"Education\": \"Mecahnical Engineering\"}\n",
      "Naveen:{\"age\": 20, \"Height\": 167, \"Education\": \"Mecahnical Engineering\"}\n"
     ]
    }
   ],
   "source": [
    "t1=Thread(target=c.create(\"Aditiya\",b))\n",
    "t1.start()\n",
    "t2=Thread(target=c.read(\"Aditiya\"))\n",
    "t2.start()\n",
    "t3=Thread(target=c.create(\"Naveen\",b))\n",
    "t3.start()\n",
    "t4=Thread(target=c.read(\"Naveen\"))\n",
    "t4.start()"
   ]
  }
 ],
 "metadata": {
  "kernelspec": {
   "display_name": "Python 3",
   "language": "python",
   "name": "python3"
  },
  "language_info": {
   "codemirror_mode": {
    "name": "ipython",
    "version": 3
   },
   "file_extension": ".py",
   "mimetype": "text/x-python",
   "name": "python",
   "nbconvert_exporter": "python",
   "pygments_lexer": "ipython3",
   "version": "3.7.6"
  }
 },
 "nbformat": 4,
 "nbformat_minor": 4
}
